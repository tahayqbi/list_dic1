{
 "cells": [
  {
   "cell_type": "markdown",
   "id": "18ce26a1",
   "metadata": {},
   "source": [
    "## Task 1\n",
    "Extract values from a dictionary that their keys are present in a given list\n"
   ]
  },
  {
   "cell_type": "code",
   "execution_count": 4,
   "id": "9022b9f6",
   "metadata": {},
   "outputs": [
    {
     "name": "stdout",
     "output_type": "stream",
     "text": [
      "taha\n",
      "19\n"
     ]
    }
   ],
   "source": [
    "person_dict = {\"name\":\"taha\", \"age\":19, \"job\":\"programmer\", \"salary\":7500}\n",
    "\n",
    "valid_keys = [\"name\", \"age\"]\n",
    "\n",
    "for item_check in valid_keys:\n",
    "    \n",
    "    print(person_dict[item_check])\n",
    " \n"
   ]
  },
  {
   "cell_type": "markdown",
   "id": "0f41b791",
   "metadata": {},
   "source": [
    "## Task 2\n",
    "flatten a nested dictionary. If a key is already present in the result dict, add a suffix like \"_1\" to distinguish between keys with the same name."
   ]
  },
  {
   "cell_type": "code",
   "execution_count": null,
   "id": "7cc664fc",
   "metadata": {},
   "outputs": [],
   "source": []
  },
  {
   "cell_type": "markdown",
   "id": "19667899",
   "metadata": {},
   "source": [
    "## Task 3\n",
    "Write a Python program to drop items with None or empty values from a given dictionary"
   ]
  },
  {
   "cell_type": "code",
   "execution_count": null,
   "id": "0aecf46e",
   "metadata": {},
   "outputs": [],
   "source": []
  },
  {
   "cell_type": "markdown",
   "id": "39da66b5",
   "metadata": {},
   "source": [
    "## Task 4\n",
    "Create a dictionary two given lists using "
   ]
  },
  {
   "cell_type": "code",
   "execution_count": 8,
   "id": "5d87ac66",
   "metadata": {},
   "outputs": [
    {
     "data": {
      "text/plain": [
       "{'Italy': 'Rom', 'Iran': 'Tehran', 'Turkey': 'ankara'}"
      ]
     },
     "execution_count": 8,
     "metadata": {},
     "output_type": "execute_result"
    }
   ],
   "source": [
    "country_lst = [\"Italy\",\"Iran\", \"Turkey\", ]\n",
    "Therightcapital_lst = [\"Rom\",\"Tehran\", \"ankara\", ]\n",
    "\n",
    "cc_dict = dict(zip(country_lst,Therightcapital_lst))\n",
    "cc_dict\n",
    "\n",
    "\n"
   ]
  }
 ],
 "metadata": {
  "kernelspec": {
   "display_name": "Python 3 (ipykernel)",
   "language": "python",
   "name": "python3"
  },
  "language_info": {
   "codemirror_mode": {
    "name": "ipython",
    "version": 3
   },
   "file_extension": ".py",
   "mimetype": "text/x-python",
   "name": "python",
   "nbconvert_exporter": "python",
   "pygments_lexer": "ipython3",
   "version": "3.9.12"
  }
 },
 "nbformat": 4,
 "nbformat_minor": 5
}
